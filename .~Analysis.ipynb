version https://git-lfs.github.com/spec/v1
oid sha256:b05b5f0f5bfae7ffd6640d89f2f205be9ffc7405ba255ad6f59dd185809d63ad
size 155072004
